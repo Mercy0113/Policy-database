# 示例代码：使用pandas加载并展示Airtable数据
import pandas as pd
from airtable import Airtable

API_KEY = 'your_api_key'
BASE_ID = 'your_base_id'
TABLE_NAME = '北京市互联网行业政策'

at = Airtable(BASE_ID, TABLE_NAME, API_KEY)

# 获取数据
records = at.get_all()

# 转换为DataFrame
df = pd.DataFrame([record['fields'] for record in records])

# 展示数据
df.head()
